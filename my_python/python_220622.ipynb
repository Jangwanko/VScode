{
 "cells": [
  {
   "cell_type": "markdown",
   "id": "09375ab2",
   "metadata": {},
   "source": [
    "# 포매팅 1"
   ]
  },
  {
   "cell_type": "code",
   "execution_count": null,
   "id": "9cb17e27",
   "metadata": {},
   "outputs": [],
   "source": [
    "month=6\n",
    "day=7\n",
    "s=\"오늘은 %d월 %d일 입니다.\"%(month,day)\n",
    "print(s)"
   ]
  },
  {
   "cell_type": "code",
   "execution_count": null,
   "id": "fdf80bbf",
   "metadata": {},
   "outputs": [],
   "source": [
    "month=6\n",
    "day=22\n",
    "s=\"오늘은 %d월 %d일 입니다.\"%(month,day)\n",
    "print(s)"
   ]
  },
  {
   "cell_type": "markdown",
   "id": "652b72b5",
   "metadata": {},
   "source": [
    "포매팅 2"
   ]
  },
  {
   "cell_type": "code",
   "execution_count": null,
   "id": "ea64f72a",
   "metadata": {},
   "outputs": [],
   "source": [
    "month=9\n",
    "day=10\n",
    "s=\"오늘은 {}월 {}일 입니다.\".format(month,day)\n",
    "print(s)"
   ]
  },
  {
   "cell_type": "markdown",
   "id": "acc35102",
   "metadata": {},
   "source": [
    "# f-string"
   ]
  },
  {
   "cell_type": "code",
   "execution_count": null,
   "id": "36e1ef08",
   "metadata": {},
   "outputs": [],
   "source": [
    "month=7\n",
    "day=7\n",
    "s=f\"오늘은 {month}월 {day}일 입니다.\"\n",
    "print(s)"
   ]
  },
  {
   "cell_type": "code",
   "execution_count": null,
   "id": "db4017a7",
   "metadata": {},
   "outputs": [],
   "source": [
    "x=10\n",
    "y=20\n",
    "plus=sum([x,y])\n",
    "print(f\"{x}과 {y}의 합은 {plus}입니다.\")"
   ]
  },
  {
   "cell_type": "markdown",
   "id": "52984299",
   "metadata": {},
   "source": [
    "# 자주 사용하는 문자열 함수"
   ]
  },
  {
   "cell_type": "code",
   "execution_count": null,
   "id": "641b9055",
   "metadata": {},
   "outputs": [],
   "source": [
    "s=\"오늘 점심 메뉴는 중식 수제 탕수육입니다. 저는 탕수육을 좋아해서 탕수육을 많이 먹고싶습니다. 탕수육!\""
   ]
  },
  {
   "cell_type": "code",
   "execution_count": null,
   "id": "21bb3218",
   "metadata": {},
   "outputs": [],
   "source": [
    "s.count(\"탕수육\")"
   ]
  },
  {
   "cell_type": "code",
   "execution_count": null,
   "id": "01d42260",
   "metadata": {},
   "outputs": [],
   "source": [
    "s=\"    오늘 점심 메뉴는 중식 수제 탕수육입니다.    저는 탕수육을 좋아해서 탕수육을 많이 먹고싶습니다.   탕수육!\"\n",
    "s.strip()"
   ]
  },
  {
   "cell_type": "code",
   "execution_count": null,
   "id": "9639309b",
   "metadata": {},
   "outputs": [],
   "source": [
    "s=\"오늘 점심 메뉴는 중식 수제 탕수육입니다. 저는 탕수육을 좋아해서 탕수육을 많이 먹고싶습니다. 탕수육!\"\n",
    "s.replace(\"탕수육\",\"깐풍기\")"
   ]
  },
  {
   "cell_type": "code",
   "execution_count": null,
   "id": "1531c7de",
   "metadata": {},
   "outputs": [],
   "source": [
    "s=\"    오늘 점심 메뉴는 중식 수제 탕수육입니다.    저는 탕수육을 좋아해서 탕수육을 많이 먹고싶습니다.   탕수육!\"\n",
    "s.split(\".\")"
   ]
  },
  {
   "cell_type": "code",
   "execution_count": null,
   "id": "6c5e918b",
   "metadata": {},
   "outputs": [],
   "source": [
    "num1=10\n",
    "num2=7\n",
    "print(num1/num2)\n",
    "print(num1%num2)\n",
    "print(num1//num2)"
   ]
  },
  {
   "cell_type": "code",
   "execution_count": null,
   "id": "d782de2e",
   "metadata": {},
   "outputs": [],
   "source": [
    "str1=\"Hi,\"\n",
    "str2=\"Nice to meet you.\"\n",
    "print(str1+str2)"
   ]
  },
  {
   "cell_type": "code",
   "execution_count": null,
   "id": "b6e04e9b",
   "metadata": {},
   "outputs": [],
   "source": [
    "str1=\"10\"\n",
    "str2='7'\n",
    "print(str1+str2)"
   ]
  },
  {
   "cell_type": "code",
   "execution_count": null,
   "id": "103e4141",
   "metadata": {},
   "outputs": [],
   "source": [
    "num1=10\n",
    "num2=6\n",
    "print(num1+num2)\n",
    "print(num1-num2)\n",
    "print(num1*num2)\n",
    "print(num1/num2)"
   ]
  },
  {
   "cell_type": "code",
   "execution_count": null,
   "id": "dbbefbf5",
   "metadata": {},
   "outputs": [],
   "source": [
    "num=input(\"정수 입력>>\")"
   ]
  },
  {
   "cell_type": "code",
   "execution_count": 1,
   "id": "107e7a3b",
   "metadata": {},
   "outputs": [
    {
     "name": "stdout",
     "output_type": "stream",
     "text": [
      "정수를 입력하세요 >>3\n",
      "정수를 입력하세요 >>7\n",
      "더하기 결과 :  10\n",
      "빼기 결과 :  -4\n",
      "곱하기 결과 :  21\n",
      "나누기 결과 :  0.42857142857142855\n"
     ]
    }
   ],
   "source": [
    "num1=int(input(\"정수를 입력하세요 >>\"))\n",
    "num2=int(input(\"정수를 입력하세요 >>\"))\n",
    "print(\"더하기 결과 : \",num1+num2)\n",
    "print(\"빼기 결과 : \",num1-num2)\n",
    "print(\"곱하기 결과 : \",num1*num2)\n",
    "print(\"나누기 결과 : \",num1/num2)"
   ]
  },
  {
   "cell_type": "code",
   "execution_count": 7,
   "id": "0a4cd1f2",
   "metadata": {},
   "outputs": [
    {
     "name": "stdout",
     "output_type": "stream",
     "text": [
      "python 점수 입력 >> 100\n",
      "머신러닝 점수 입력 >> 80\n",
      "딥러닝 점수 입력 >> 60\n",
      "합계 : 240\n",
      "평균 : 80.0\n",
      "합계 : 240\n",
      "평균 : 80.0\n"
     ]
    }
   ],
   "source": [
    "num1=int(input(\"python 점수 입력 >> \"))\n",
    "num2=int(input(\"머신러닝 점수 입력 >> \"))\n",
    "num3=int(input(\"딥러닝 점수 입력 >> \"))\n",
    "plus=num1+num2+num3\n",
    "aver=plus/3\n",
    "print(f\"합계 : {plus}\")\n",
    "print(f\"평균 : {aver}\")\n",
    "print(\"합계 : {}\".format(plus))\n",
    "print(\"평균 : {}\".format(aver))"
   ]
  },
  {
   "cell_type": "code",
   "execution_count": 23,
   "id": "c60ac25e",
   "metadata": {},
   "outputs": [
    {
     "name": "stdout",
     "output_type": "stream",
     "text": [
      "시간 입력 >> 1123\n",
      "0시간 18분 43초\n"
     ]
    }
   ],
   "source": [
    "time=int(input(\"시간 입력 >> \"))\n",
    "hour=int(time/3600)\n",
    "#hour=(time//3600)\n",
    "minute=int((time-hour*3600)/60)\n",
    "#minute=((time%3600)//60)\n",
    "second=int(time-((hour*3600)+(minute*60)))\n",
    "#second=(time%3600)%60\n",
    "print(\"{}시간 {}분 {}초\".format(hour,minute,second))"
   ]
  },
  {
   "cell_type": "code",
   "execution_count": 24,
   "id": "a9822c11",
   "metadata": {},
   "outputs": [
    {
     "name": "stdout",
     "output_type": "stream",
     "text": [
      "안녕하세요안녕하세요\n"
     ]
    }
   ],
   "source": [
    "s=\"안녕하세요\"\n",
    "print(s*2)"
   ]
  },
  {
   "cell_type": "code",
   "execution_count": 33,
   "id": "dbd0aa6a",
   "metadata": {},
   "outputs": [
    {
     "name": "stdout",
     "output_type": "stream",
     "text": [
      "***** 연산하기 *****\n",
      "정수입력 >> 10\n",
      "정수입력 >> 20\n",
      "+연산자 입력 >> +\n",
      "10 + 20 = 30\n"
     ]
    }
   ],
   "source": [
    "print('*'*5,\"연산하기\",'*'*5)\n",
    "num1=int(input(\"정수입력 >> \"))\n",
    "num2=int(input(\"정수입력 >> \"))\n",
    "cal=input(\"+연산자 입력 >> \")\n",
    "print(\"{} {} {} = {}\".format(num,cal,num2,num1+num2))"
   ]
  },
  {
   "cell_type": "code",
   "execution_count": 34,
   "id": "37c964b6",
   "metadata": {},
   "outputs": [
    {
     "name": "stdout",
     "output_type": "stream",
     "text": [
      "정수 입력 >> 2\n",
      "지수 입력 >> 3\n",
      "2의 3승은 8\n"
     ]
    }
   ],
   "source": [
    "num1=int(input(\"정수 입력 >> \"))\n",
    "power=int(input(\"지수 입력 >> \"))\n",
    "print(f\"{num1}의 {power}승은 {num1**power}\")"
   ]
  },
  {
   "cell_type": "code",
   "execution_count": 35,
   "id": "d0e45889",
   "metadata": {},
   "outputs": [
    {
     "data": {
      "text/plain": [
       "False"
      ]
     },
     "execution_count": 35,
     "metadata": {},
     "output_type": "execute_result"
    }
   ],
   "source": [
    "a,b=4,7\n",
    "a==b"
   ]
  },
  {
   "cell_type": "code",
   "execution_count": 37,
   "id": "a47cc686",
   "metadata": {},
   "outputs": [
    {
     "name": "stdout",
     "output_type": "stream",
     "text": [
      "True\n"
     ]
    }
   ],
   "source": [
    "print(a!=b)"
   ]
  },
  {
   "cell_type": "code",
   "execution_count": 54,
   "id": "7cb25aee",
   "metadata": {},
   "outputs": [
    {
     "name": "stdout",
     "output_type": "stream",
     "text": [
      "a:1, b:1\n",
      "False\n",
      "False\n",
      "True\n",
      "False\n"
     ]
    }
   ],
   "source": [
    "import random\n",
    "a=random.randint(1,10)\n",
    "b=random.randint(1,10)\n",
    "print(f\"a:{a}, b:{b}\")\n",
    "\n",
    "print(a<b)\n",
    "print(a>b)\n",
    "print(a==b)\n",
    "print(a!=b)"
   ]
  },
  {
   "cell_type": "code",
   "execution_count": 56,
   "id": "e32024e7",
   "metadata": {},
   "outputs": [
    {
     "data": {
      "text/plain": [
       "True"
      ]
     },
     "execution_count": 56,
     "metadata": {},
     "output_type": "execute_result"
    }
   ],
   "source": [
    "a=3\n",
    "b=7\n",
    "not a==b"
   ]
  },
  {
   "cell_type": "code",
   "execution_count": 58,
   "id": "e266c775",
   "metadata": {},
   "outputs": [
    {
     "name": "stdout",
     "output_type": "stream",
     "text": [
      "False\n",
      "False\n",
      "True\n"
     ]
    }
   ],
   "source": [
    "print(3>5 and 10==20)\n",
    "print(3>5 and 10<20)\n",
    "print(3<5 and 10<20)"
   ]
  },
  {
   "cell_type": "code",
   "execution_count": 59,
   "id": "cdaaebfd",
   "metadata": {},
   "outputs": [
    {
     "name": "stdout",
     "output_type": "stream",
     "text": [
      "False\n",
      "True\n",
      "True\n"
     ]
    }
   ],
   "source": [
    "print(3>5 or 10==20)\n",
    "print(3>5 or 10<20)\n",
    "print(3<5 or 10<20)"
   ]
  },
  {
   "cell_type": "code",
   "execution_count": 62,
   "id": "62834e8a",
   "metadata": {},
   "outputs": [
    {
     "data": {
      "text/plain": [
       "'불합격'"
      ]
     },
     "execution_count": 62,
     "metadata": {},
     "output_type": "execute_result"
    }
   ],
   "source": [
    "score=50\n",
    "\n",
    "\"합격\"if score >= 60 else \"불합격\""
   ]
  },
  {
   "cell_type": "code",
   "execution_count": 74,
   "id": "8ea8860c",
   "metadata": {},
   "outputs": [
    {
     "name": "stdout",
     "output_type": "stream",
     "text": [
      "정수입력 >> 5\n",
      "정수입력 >> 7\n",
      "num2 :  7\n"
     ]
    }
   ],
   "source": [
    "num1=int(input(\"정수입력 >> \"))\n",
    "num2=int(input(\"정수입력 >> \"))\n",
    "print(\"num1: \",num1) if num1>num2 else print(\"num2 : \",num2 )"
   ]
  },
  {
   "cell_type": "code",
   "execution_count": 77,
   "id": "0471c684",
   "metadata": {},
   "outputs": [
    {
     "name": "stdout",
     "output_type": "stream",
     "text": [
      "첫번쨰 정수입력 >> 33\n",
      "두번째 정수입력 >> 5\n",
      "두수의 차 :  28\n"
     ]
    }
   ],
   "source": [
    "num1=int(input(\"첫번쨰 정수입력 >> \"))\n",
    "num2=int(input(\"두번째 정수입력 >> \"))\n",
    "print(\"두수의 차 : \",num1-num2) if num1>num2 else print(\"두수의 차: \", num2-num1)"
   ]
  },
  {
   "cell_type": "code",
   "execution_count": 79,
   "id": "bba7bbb8",
   "metadata": {},
   "outputs": [
    {
     "name": "stdout",
     "output_type": "stream",
     "text": [
      "첫번쨰 정수입력 >> 5\n",
      "두번째 정수입력 >> 7\n",
      "두수의 차 :  2\n"
     ]
    }
   ],
   "source": [
    "num1=int(input(\"첫번쨰 정수입력 >> \"))\n",
    "num2=int(input(\"두번째 정수입력 >> \"))\n",
    "print(\"두수의 차 : \",abs(num1-num2))"
   ]
  },
  {
   "cell_type": "code",
   "execution_count": 81,
   "id": "450e8e03",
   "metadata": {},
   "outputs": [
    {
     "name": "stdout",
     "output_type": "stream",
     "text": [
      "정수입력 >> 22\n",
      "22 은 짝수입니다.\n"
     ]
    }
   ],
   "source": [
    "num=int(input(\"정수입력 >> \"))\n",
    "print(num,'은 짝수입니다.')if num%2==0 else print(num,'은 홀수입니다.')"
   ]
  },
  {
   "cell_type": "code",
   "execution_count": null,
   "id": "9be544a4",
   "metadata": {},
   "outputs": [],
   "source": []
  }
 ],
 "metadata": {
  "kernelspec": {
   "display_name": "Python 3 (ipykernel)",
   "language": "python",
   "name": "python3"
  },
  "language_info": {
   "codemirror_mode": {
    "name": "ipython",
    "version": 3
   },
   "file_extension": ".py",
   "mimetype": "text/x-python",
   "name": "python",
   "nbconvert_exporter": "python",
   "pygments_lexer": "ipython3",
   "version": "3.9.12"
  }
 },
 "nbformat": 4,
 "nbformat_minor": 5
}
