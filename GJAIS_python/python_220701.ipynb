{
 "cells": [
  {
   "cell_type": "code",
   "execution_count": 1,
   "id": "53ca3895",
   "metadata": {},
   "outputs": [],
   "source": [
    "review_naver=[\"ㅋㅋㅋㅋㅋㅋ 윌스미스 봐라\",\"쟈스민은 신이고 무적이다 ㅋㅋㅋㅋ\",\"ㅋㅋ 이게 맞냐\"]\n",
    "revire_google=[\"색감굿 노래굿 ㅋㅋㅋ\",[\"나는 디즈니의 노예인게 분명 ㅋㅋㅋㅋ\"]]\n",
    "\n",
    "def wordchange(list_number):\n",
    "    for i in list_number:\n",
    "        return i.replace('ㅋ','')"
   ]
  },
  {
   "cell_type": "code",
   "execution_count": 2,
   "id": "04eca373",
   "metadata": {},
   "outputs": [
    {
     "name": "stdout",
     "output_type": "stream",
     "text": [
      " 윌스미스 봐라\n"
     ]
    }
   ],
   "source": [
    "print(wordchange(review_naver))"
   ]
  },
  {
   "cell_type": "code",
   "execution_count": 3,
   "id": "f48d8910",
   "metadata": {},
   "outputs": [
    {
     "ename": "SyntaxError",
     "evalue": "invalid syntax (2846543659.py, line 1)",
     "output_type": "error",
     "traceback": [
      "\u001b[1;36m  Input \u001b[1;32mIn [3]\u001b[1;36m\u001b[0m\n\u001b[1;33m    dic2=['영':\"b\",'한':'c']\u001b[0m\n\u001b[1;37m             ^\u001b[0m\n\u001b[1;31mSyntaxError\u001b[0m\u001b[1;31m:\u001b[0m invalid syntax\n"
     ]
    }
   ],
   "source": [
    "dic2=['영':\"b\",'한':'c']"
   ]
  },
  {
   "cell_type": "code",
   "execution_count": null,
   "id": "16012ed6",
   "metadata": {},
   "outputs": [
    {
     "name": "stdout",
     "output_type": "stream",
     "text": [
      "5 3\n"
     ]
    }
   ],
   "source": [
    "m,n=map(int,input().split())"
   ]
  },
  {
   "cell_type": "code",
   "execution_count": null,
   "id": "b1cc49b9",
   "metadata": {},
   "outputs": [
    {
     "name": "stdout",
     "output_type": "stream",
     "text": [
      "5\n",
      "3\n"
     ]
    }
   ],
   "source": [
    "print(m)\n",
    "print(n)"
   ]
  },
  {
   "cell_type": "code",
   "execution_count": null,
   "id": "08d398ee",
   "metadata": {},
   "outputs": [
    {
     "name": "stdout",
     "output_type": "stream",
     "text": [
      "<class 'int'>\n",
      "<class 'int'>\n"
     ]
    }
   ],
   "source": [
    "print(type(m))\n",
    "print(type(n))"
   ]
  },
  {
   "cell_type": "code",
   "execution_count": null,
   "id": "60996f21",
   "metadata": {},
   "outputs": [],
   "source": []
  }
 ],
 "metadata": {
  "kernelspec": {
   "display_name": "Python 3.9.12 ('base')",
   "language": "python",
   "name": "python3"
  },
  "language_info": {
   "codemirror_mode": {
    "name": "ipython",
    "version": 3
   },
   "file_extension": ".py",
   "mimetype": "text/x-python",
   "name": "python",
   "nbconvert_exporter": "python",
   "pygments_lexer": "ipython3",
   "version": "3.9.12"
  },
  "vscode": {
   "interpreter": {
    "hash": "2f28686947a9d4fa78b0dd5bfc3c39f38db6b1ea450da2221c7ede16884d8f7e"
   }
  }
 },
 "nbformat": 4,
 "nbformat_minor": 5
}
