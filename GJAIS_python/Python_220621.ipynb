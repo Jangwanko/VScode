{
 "cells": [
  {
   "cell_type": "code",
   "execution_count": null,
   "id": "c7cc26a2",
   "metadata": {},
   "outputs": [],
   "source": [
    "num=1\n",
    "print(num)"
   ]
  },
  {
   "cell_type": "code",
   "execution_count": null,
   "id": "b37d117b",
   "metadata": {},
   "outputs": [],
   "source": [
    "num2=25\n",
    "print(num2)"
   ]
  },
  {
   "cell_type": "code",
   "execution_count": null,
   "id": "8761fa59",
   "metadata": {},
   "outputs": [],
   "source": [
    "num2=77\n",
    "print(num2)"
   ]
  },
  {
   "cell_type": "code",
   "execution_count": null,
   "id": "7ee34de0",
   "metadata": {},
   "outputs": [],
   "source": [
    "print(type(num2))"
   ]
  },
  {
   "cell_type": "code",
   "execution_count": null,
   "id": "f5ca1d47",
   "metadata": {},
   "outputs": [],
   "source": [
    "num3=3.1425\n",
    "print(num3)"
   ]
  },
  {
   "cell_type": "code",
   "execution_count": null,
   "id": "56ebbb42",
   "metadata": {},
   "outputs": [],
   "source": [
    "num4=1.25\n",
    "print(num4)"
   ]
  },
  {
   "cell_type": "code",
   "execution_count": null,
   "id": "9032cb45",
   "metadata": {},
   "outputs": [],
   "source": [
    "num4=3.12\n",
    "print(num4)"
   ]
  },
  {
   "cell_type": "code",
   "execution_count": null,
   "id": "c8f94a6c",
   "metadata": {},
   "outputs": [],
   "source": [
    "type(num4)"
   ]
  },
  {
   "cell_type": "code",
   "execution_count": null,
   "id": "77d79de2",
   "metadata": {},
   "outputs": [],
   "source": [
    "str1='funny_python'\n",
    "print(str1)"
   ]
  },
  {
   "cell_type": "code",
   "execution_count": null,
   "id": "98f31b21",
   "metadata": {},
   "outputs": [],
   "source": [
    "str2='easy_python'\n",
    "print(str2)"
   ]
  },
  {
   "cell_type": "code",
   "execution_count": null,
   "id": "17a026e0",
   "metadata": {},
   "outputs": [],
   "source": [
    "type(str2)"
   ]
  },
  {
   "cell_type": "code",
   "execution_count": null,
   "id": "39647a9c",
   "metadata": {},
   "outputs": [],
   "source": [
    "number=12\n",
    "Number=24\n",
    "print(number,Number)"
   ]
  },
  {
   "cell_type": "code",
   "execution_count": null,
   "id": "93d253fd",
   "metadata": {},
   "outputs": [],
   "source": [
    "number_Number=10\n",
    "print(number_Number)"
   ]
  },
  {
   "cell_type": "code",
   "execution_count": null,
   "id": "6d739b74",
   "metadata": {
    "scrolled": true
   },
   "outputs": [],
   "source": [
    "import keyword\n",
    "keyword.kwlist"
   ]
  },
  {
   "cell_type": "code",
   "execution_count": null,
   "id": "6a6206ae",
   "metadata": {},
   "outputs": [],
   "source": [
    "a=10\n",
    "b=15\n",
    "print(a)\n",
    "print(b)"
   ]
  },
  {
   "cell_type": "code",
   "execution_count": null,
   "id": "609216df",
   "metadata": {},
   "outputs": [],
   "source": [
    "c,d=5,7\n",
    "print(c,d)"
   ]
  },
  {
   "cell_type": "code",
   "execution_count": null,
   "id": "27083c20",
   "metadata": {},
   "outputs": [],
   "source": [
    "x=100\n",
    "y=200\n",
    "sum=(x+y)\n",
    "print(sum)"
   ]
  },
  {
   "cell_type": "code",
   "execution_count": null,
   "id": "84ba9fa1",
   "metadata": {},
   "outputs": [],
   "source": [
    "sum([1,2])"
   ]
  },
  {
   "cell_type": "code",
   "execution_count": 1,
   "id": "6989d752",
   "metadata": {},
   "outputs": [
    {
     "name": "stdout",
     "output_type": "stream",
     "text": [
      "she's gone\n"
     ]
    }
   ],
   "source": [
    "s=\"she's gone\"\n",
    "print(s)"
   ]
  },
  {
   "cell_type": "code",
   "execution_count": 3,
   "id": "b6d4b56e",
   "metadata": {},
   "outputs": [
    {
     "name": "stdout",
     "output_type": "stream",
     "text": [
      "she's 'gone'\n"
     ]
    }
   ],
   "source": [
    "s2=\"she's gone\"\n",
    "s3='she\\'s \\'gone\\''\n",
    "print(s3)"
   ]
  },
  {
   "cell_type": "code",
   "execution_count": 4,
   "id": "507f19e6",
   "metadata": {},
   "outputs": [],
   "source": [
    "s=\"여러줄로 구성된 문자를 \\n하나로 대입할때\""
   ]
  },
  {
   "cell_type": "code",
   "execution_count": 5,
   "id": "ba9d23d9",
   "metadata": {},
   "outputs": [
    {
     "name": "stdout",
     "output_type": "stream",
     "text": [
      "여러줄로 구성된 문자를 \n",
      "하나로 대입할때\n"
     ]
    }
   ],
   "source": [
    "print(s)"
   ]
  },
  {
   "cell_type": "code",
   "execution_count": 7,
   "id": "caf4baab",
   "metadata": {},
   "outputs": [
    {
     "name": "stdout",
     "output_type": "stream",
     "text": [
      "여러줄\n",
      "포함된\n",
      "문자를\n",
      "출력해\n"
     ]
    }
   ],
   "source": [
    "s='''여러줄\n",
    "포함된\n",
    "문자를\n",
    "출력해'''\n",
    "print(s)"
   ]
  },
  {
   "cell_type": "code",
   "execution_count": 10,
   "id": "00f5f728",
   "metadata": {},
   "outputs": [
    {
     "name": "stdout",
     "output_type": "stream",
     "text": [
      "가\n",
      "나\t다\n"
     ]
    }
   ],
   "source": [
    "word=\"가\\n나\\t다\"\n",
    "print(word)"
   ]
  },
  {
   "cell_type": "code",
   "execution_count": 14,
   "id": "ccff3bd8",
   "metadata": {},
   "outputs": [
    {
     "name": "stdout",
     "output_type": "stream",
     "text": [
      "m\n",
      "j\n"
     ]
    }
   ],
   "source": [
    "name=\"my name is jw\"\n",
    "print(name[0])\n",
    "print(name[11])"
   ]
  },
  {
   "cell_type": "code",
   "execution_count": 15,
   "id": "2acfef9a",
   "metadata": {},
   "outputs": [
    {
     "name": "stdout",
     "output_type": "stream",
     "text": [
      "j\n",
      "s\n"
     ]
    }
   ],
   "source": [
    "print(name[-2])\n",
    "print(name[-4])"
   ]
  },
  {
   "cell_type": "code",
   "execution_count": 18,
   "id": "e4392873",
   "metadata": {},
   "outputs": [
    {
     "name": "stdout",
     "output_type": "stream",
     "text": [
      "my\n",
      "name \n",
      "jw\n"
     ]
    }
   ],
   "source": [
    "print(name[0:2])\n",
    "print(name[3:8])\n",
    "print(name[11:])"
   ]
  },
  {
   "cell_type": "code",
   "execution_count": 22,
   "id": "92c18470",
   "metadata": {},
   "outputs": [
    {
     "name": "stdout",
     "output_type": "stream",
     "text": [
      "is jw\n",
      "is jw\n",
      "is jw\n"
     ]
    }
   ],
   "source": [
    "print(name[8:13])\n",
    "print(name[8:])\n",
    "print(name[-5:])"
   ]
  },
  {
   "cell_type": "code",
   "execution_count": 28,
   "id": "e754b404",
   "metadata": {},
   "outputs": [
    {
     "name": "stdout",
     "output_type": "stream",
     "text": [
      "my name is jw\n",
      "my name is jw\n"
     ]
    }
   ],
   "source": [
    "print(name[0:])\n",
    "print(name[-13:])"
   ]
  },
  {
   "cell_type": "code",
   "execution_count": 36,
   "id": "77f77e3c",
   "metadata": {},
   "outputs": [
    {
     "name": "stdout",
     "output_type": "stream",
     "text": [
      "날짜 :  2020년 3월 3일\n",
      "날씨 :  맑음\n"
     ]
    }
   ],
   "source": [
    "s=\"2020년 3월 3일의 날씨는 맑음입니다.\"\n",
    "print(\"날짜 : \",s[:11])\n",
    "print(\"날씨 : \",s[17:19])"
   ]
  },
  {
   "cell_type": "code",
   "execution_count": null,
   "id": "576f5b2b",
   "metadata": {},
   "outputs": [],
   "source": []
  }
 ],
 "metadata": {
  "kernelspec": {
   "display_name": "Python 3 (ipykernel)",
   "language": "python",
   "name": "python3"
  },
  "language_info": {
   "codemirror_mode": {
    "name": "ipython",
    "version": 3
   },
   "file_extension": ".py",
   "mimetype": "text/x-python",
   "name": "python",
   "nbconvert_exporter": "python",
   "pygments_lexer": "ipython3",
   "version": "3.9.12"
  }
 },
 "nbformat": 4,
 "nbformat_minor": 5
}
