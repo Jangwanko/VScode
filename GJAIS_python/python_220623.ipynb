{
 "cells": [
  {
   "cell_type": "markdown",
   "id": "3f1035c3",
   "metadata": {},
   "source": [
    "## 조건문"
   ]
  },
  {
   "cell_type": "code",
   "execution_count": 1,
   "id": "19ec170e",
   "metadata": {},
   "outputs": [
    {
     "name": "stdout",
     "output_type": "stream",
     "text": [
      "가나초콜릿\n",
      "이거 나오냐\n"
     ]
    }
   ],
   "source": [
    "if True:\n",
    "    print(\"가나초콜릿\")\n",
    "print(\"이거 나오냐\")"
   ]
  },
  {
   "cell_type": "code",
   "execution_count": 2,
   "id": "6cff5f10",
   "metadata": {},
   "outputs": [
    {
     "name": "stdout",
     "output_type": "stream",
     "text": [
      "이것도?\n"
     ]
    }
   ],
   "source": [
    "if False:\n",
    "    print(\"해피초콜릿\")\n",
    "print(\"이것도?\")"
   ]
  },
  {
   "cell_type": "code",
   "execution_count": 3,
   "id": "042a424a",
   "metadata": {},
   "outputs": [
    {
     "name": "stdout",
     "output_type": "stream",
     "text": [
      "버스를 타야겠따\n"
     ]
    }
   ],
   "source": [
    "money=int(input(\"가지고 있는 돈이.. >> \"))\n",
    "if money>=10000:\n",
    "    print(\"그래 오늘만...\")\n",
    "else:\n",
    "    print(\"버스를 타야겠따\")"
   ]
  },
  {
   "cell_type": "code",
   "execution_count": 4,
   "id": "2bc7b5a6",
   "metadata": {},
   "outputs": [
    {
     "name": "stdout",
     "output_type": "stream",
     "text": [
      "그래 오늘만...\n"
     ]
    }
   ],
   "source": [
    "money=int(input(\"가지고 있는 돈이.. >> \"))\n",
    "print(\"그래 오늘만...\") if money>=10000 else print(\"버스를 타야겠따\")"
   ]
  },
  {
   "cell_type": "code",
   "execution_count": 5,
   "id": "c1763645",
   "metadata": {},
   "outputs": [
    {
     "name": "stdout",
     "output_type": "stream",
     "text": [
      "3과 5의 배수가 아닙니다.\n"
     ]
    }
   ],
   "source": [
    "num=int(input(\"숫자를 입력하세요: \"))\n",
    "if num%15==0:#num%3==0 and num%5==0\n",
    "    print(\"3과 5의 배수입니다.\")\n",
    "else:\n",
    "    print(\"3과 5의 배수가 아닙니다.\")"
   ]
  },
  {
   "cell_type": "code",
   "execution_count": 6,
   "id": "ed96c2fc",
   "metadata": {},
   "outputs": [
    {
     "name": "stdout",
     "output_type": "stream",
     "text": [
      "당신은 남자.\n"
     ]
    }
   ],
   "source": [
    "id=input(\"주민등록번호 뒷자리 입력: \")\n",
    "if id[0]=='1' or id[0]=='3':\n",
    "    print(\"당신은 남자.\")\n",
    "else:\n",
    "    print(\"당신은 여자.\")"
   ]
  },
  {
   "cell_type": "code",
   "execution_count": 7,
   "id": "31f39c22",
   "metadata": {},
   "outputs": [
    {
     "name": "stdout",
     "output_type": "stream",
     "text": [
      "당신은 남자\n"
     ]
    }
   ],
   "source": [
    "id=int(input(\"주민등록번호 뒷자리 입력: \"))\n",
    "if id//1000000==1 or id//1000000==3:\n",
    "    print(\"당신은 남자\")\n",
    "else:\n",
    "    print(\"당신은 여자\")"
   ]
  },
  {
   "cell_type": "code",
   "execution_count": 8,
   "id": "caab23d7",
   "metadata": {},
   "outputs": [
    {
     "name": "stdout",
     "output_type": "stream",
     "text": [
      "ll님은 입장료 17500원에 예약되셨습니다.\n"
     ]
    }
   ],
   "source": [
    "name=input(\"이름을 입력하세요 >> \")\n",
    "age=int(input(\"나이를 입력하세요 >> \"))\n",
    "card=input(\"카드를 가지고 계신가요? >> ('소지', '미소지'로 답변)\")\n",
    "ticket_money=35000\n",
    "if age>=19:\n",
    "    if card=='소지':\n",
    "        ticket_money*=0.7\n",
    "    else:\n",
    "        pass\n",
    "else:\n",
    "    ticket_money*=0.5\n",
    "    if card=='소지':\n",
    "        ticket_money*=0.9\n",
    "    else:\n",
    "        pass\n",
    "print(f\"{name}님은 입장료 {int(ticket_money)}원에 예약되셨습니다.\")\n",
    "    \n",
    "    "
   ]
  },
  {
   "cell_type": "code",
   "execution_count": 9,
   "id": "002c4667",
   "metadata": {},
   "outputs": [
    {
     "name": "stdout",
     "output_type": "stream",
     "text": [
      "8개들이 포장지 개수 : 0\n",
      "5개들이 포장지 개수 : 1\n"
     ]
    }
   ],
   "source": [
    "mask_pack=int(input(\"마스크 개수 입력 >> \"))\n",
    "e_pack=0\n",
    "if mask_pack>8:\n",
    "    e_pack=mask_pack//8\n",
    "    f_pack=((mask_pack%8)//5)+1\n",
    "    if mask_pack%8==0:\n",
    "        f_pack=0      \n",
    "else:\n",
    "    if mask_pack>5:\n",
    "        f_pack=2\n",
    "    else:\n",
    "        f_pack=1\n",
    "    \n",
    "print(f\"8개들이 포장지 개수 : {e_pack}\")\n",
    "print(f\"5개들이 포장지 개수 : {f_pack}\")"
   ]
  },
  {
   "cell_type": "code",
   "execution_count": 10,
   "id": "7ed9db31",
   "metadata": {},
   "outputs": [
    {
     "name": "stdout",
     "output_type": "stream",
     "text": [
      "8개들이 포장지 개수 : 0\n",
      "5개들이 포장지 개수 : 1\n"
     ]
    }
   ],
   "source": [
    "mask_pack=int(input(\"마스크 개수 입력 >> \"))\n",
    "e_pack=mask_pack//8\n",
    "if(mask_pack%8)%5>0:\n",
    "    f_pack=((mask_pack%8)//5)+1\n",
    "else:\n",
    "    f_pack=(mask_pack%8)//5\n",
    "print(f\"8개들이 포장지 개수 : {e_pack}\")\n",
    "print(f\"5개들이 포장지 개수 : {f_pack}\")"
   ]
  },
  {
   "cell_type": "code",
   "execution_count": 11,
   "id": "32607eee",
   "metadata": {},
   "outputs": [
    {
     "name": "stdout",
     "output_type": "stream",
     "text": [
      "num2가 더 큼\n"
     ]
    }
   ],
   "source": [
    "num1=int(input(\"숫자를 입력하세요: \"))\n",
    "num2=int(input(\"숫자를 입력하세요: \"))\n",
    "if num1>num2:\n",
    "    print(\"num1이 더 큼\")\n",
    "elif num2>num1:\n",
    "    print(\"num2가 더 큼\")\n",
    "else:\n",
    "    print(\"두 수가 같음\")"
   ]
  },
  {
   "cell_type": "code",
   "execution_count": 12,
   "id": "be7d38e1",
   "metadata": {},
   "outputs": [
    {
     "name": "stdout",
     "output_type": "stream",
     "text": [
      "80점은 B입니다.\n"
     ]
    }
   ],
   "source": [
    "score=int(input(\"점수를 입력하세요: \"))\n",
    "if score>=90:\n",
    "    grade='A'\n",
    "elif score>=80:\n",
    "    grade='B'\n",
    "elif score>=70:\n",
    "    grade='C'\n",
    "elif score>=60:\n",
    "    grade='D'\n",
    "else:\n",
    "    grade='F'\n",
    "print(f\"{score}점은 {grade}입니다.\")"
   ]
  },
  {
   "cell_type": "code",
   "execution_count": 13,
   "id": "fcf6c61d",
   "metadata": {},
   "outputs": [
    {
     "ename": "ValueError",
     "evalue": "invalid literal for int() with base 10: ''",
     "output_type": "error",
     "traceback": [
      "\u001b[1;31m---------------------------------------------------------------------------\u001b[0m",
      "\u001b[1;31mValueError\u001b[0m                                Traceback (most recent call last)",
      "\u001b[1;32mc:\\Users\\AI\\BASIC_Python\\VScode\\GJAIS_python\\python_220623.ipynb Cell 14'\u001b[0m in \u001b[0;36m<cell line: 1>\u001b[1;34m()\u001b[0m\n\u001b[1;32m----> <a href='vscode-notebook-cell:/c%3A/Users/AI/BASIC_Python/VScode/GJAIS_python/python_220623.ipynb#ch0000013?line=0'>1</a>\u001b[0m x\u001b[39m=\u001b[39m\u001b[39mint\u001b[39;49m(\u001b[39minput\u001b[39;49m(\u001b[39m\"\u001b[39;49m\u001b[39mx좌표를 입력하세요: \u001b[39;49m\u001b[39m\"\u001b[39;49m))\n\u001b[0;32m      <a href='vscode-notebook-cell:/c%3A/Users/AI/BASIC_Python/VScode/GJAIS_python/python_220623.ipynb#ch0000013?line=1'>2</a>\u001b[0m y\u001b[39m=\u001b[39m\u001b[39mint\u001b[39m(\u001b[39minput\u001b[39m(\u001b[39m\"\u001b[39m\u001b[39my좌표를 입력하세요: \u001b[39m\u001b[39m\"\u001b[39m))\n\u001b[0;32m      <a href='vscode-notebook-cell:/c%3A/Users/AI/BASIC_Python/VScode/GJAIS_python/python_220623.ipynb#ch0000013?line=2'>3</a>\u001b[0m \u001b[39mif\u001b[39;00m x\u001b[39m>\u001b[39m\u001b[39m0\u001b[39m \u001b[39mand\u001b[39;00m y\u001b[39m>\u001b[39m\u001b[39m0\u001b[39m:\n",
      "\u001b[1;31mValueError\u001b[0m: invalid literal for int() with base 10: ''"
     ]
    }
   ],
   "source": [
    "x=int(input(\"x좌표를 입력하세요: \"))\n",
    "y=int(input(\"y좌표를 입력하세요: \"))\n",
    "if x>0 and y>0:\n",
    "    quadrant=1\n",
    "    print(f\"좌표 ({x},{y})는 {quadrant}사분면 입니다.\")\n",
    "elif x>0 or y>0:\n",
    "    if x>0:\n",
    "        quadrant=4\n",
    "        print(f\"좌표 ({x},{y})는 {quadrant}사분면 입니다.\")\n",
    "    else:\n",
    "        quadrant=2\n",
    "        print(f\"좌표 ({x},{y})는 {quadrant}사분면 입니다.\")\n",
    "elif x<0 and y<0:\n",
    "    quadrant=3\n",
    "    print(f\"좌표 ({x},{y})는 {quadrant}사분면 입니다.\")\n",
    "else:\n",
    "    print(f\"좌표 ({x},{y})은 사분면에 표시 할 수 없습니다.\")\n",
    "        \n"
   ]
  },
  {
   "cell_type": "code",
   "execution_count": null,
   "id": "c54e9db9",
   "metadata": {},
   "outputs": [],
   "source": [
    "age=int(input(\"나이 입력: \"))\n",
    "pay=1500\n",
    "if age<5:\n",
    "    pay*=0.5\n",
    "elif age<20:\n",
    "    pay*=0.75\n",
    "elif age>65:\n",
    "    pay*=0.25\n",
    "else:\n",
    "    pass\n",
    "print(f\"요금은 {int(pay)}입니다.\")"
   ]
  },
  {
   "cell_type": "code",
   "execution_count": null,
   "id": "0220623d",
   "metadata": {},
   "outputs": [],
   "source": [
    "cola=600\n",
    "cydar=800\n",
    "water=1000\n",
    "thou=0\n",
    "fhund=0\n",
    "hund=0\n",
    "coin=int(input(\"Insert Coin >> \"))\n",
    "if coin>=600:\n",
    "    menu=int(input(\"메뉴 선택 >> \"))\n",
    "    if menu==1:\n",
    "        coin-=cola\n",
    "    elif menu==2 and coin<800:\n",
    "        print(\"돈을 더 넣어주세요.\")\n",
    "        if coin>=800:\n",
    "            coin-=cydar\n",
    "    elif menu==3 and coin<1000:\n",
    "        print(\"돈을 더 넣어주세요.\")\n",
    "        if coin>=1000:\n",
    "            coin-=1000\n",
    "    elif coin!=0:\n",
    "        thou=coin//1000\n",
    "        fhund=(coin-1000*thou)//500\n",
    "        hund=((coin-(1000*thou))-(fhund*500))//100\n",
    "        print(f\"잔돈 >> 1000원 {thou}개, 500원 {fhund}개, 100원 {hund}개\")\n",
    "\n",
    "else:\n",
    "    print(\"돈을 더 넣어주세요.\")\n"
   ]
  },
  {
   "cell_type": "code",
   "execution_count": null,
   "id": "52d031cc",
   "metadata": {},
   "outputs": [
    {
     "name": "stdout",
     "output_type": "stream",
     "text": [
      "Insert Coin >> 1000\n",
      "메뉴 선택 >> 1\n",
      "잔돈 >> 1000원 0개, 500원 0개, 100원 4개\n"
     ]
    }
   ],
   "source": [
    "cola=600\n",
    "cydar=800\n",
    "water=1000\n",
    "thou=0\n",
    "fhund=0\n",
    "hund=0\n",
    "coin=int(input(\"Insert Coin >> \"))\n",
    "if coin<600:\n",
    "    print(\"잔돈 부족\")\n",
    "else:\n",
    "    menu=int(input(\"메뉴 선택 >> \"))\n",
    "    if menu==1:\n",
    "        coin-=cola\n",
    "    elif menu==2:\n",
    "        coin-=cydar\n",
    "    elif menu==3:\n",
    "        coin-=water\n",
    "    else:\n",
    "        print(\"메뉴를 골라주세요.\")\n",
    "    if coin>0:\n",
    "        if coin>1000:\n",
    "            thou=coin//1000\n",
    "            fhund=(coin%1000)//500\n",
    "            hund=coin%500//100\n",
    "        elif coin>500:\n",
    "            fhund=(coin%1000)//500\n",
    "            hund=coin%500//100\n",
    "        elif coin>100:\n",
    "            hund=coin%500//100\n",
    "    print(f\"잔돈 >> 1000원 {thou}개, 500원 {fhund}개, 100원 {hund}개\")\n"
   ]
  },
  {
   "cell_type": "code",
   "execution_count": null,
   "id": "dd87bfc3",
   "metadata": {},
   "outputs": [],
   "source": []
  }
 ],
 "metadata": {
  "kernelspec": {
   "display_name": "Python 3.9.12 ('base')",
   "language": "python",
   "name": "python3"
  },
  "language_info": {
   "codemirror_mode": {
    "name": "ipython",
    "version": 3
   },
   "file_extension": ".py",
   "mimetype": "text/x-python",
   "name": "python",
   "nbconvert_exporter": "python",
   "pygments_lexer": "ipython3",
   "version": "3.9.12"
  },
  "vscode": {
   "interpreter": {
    "hash": "2f28686947a9d4fa78b0dd5bfc3c39f38db6b1ea450da2221c7ede16884d8f7e"
   }
  }
 },
 "nbformat": 4,
 "nbformat_minor": 5
}
