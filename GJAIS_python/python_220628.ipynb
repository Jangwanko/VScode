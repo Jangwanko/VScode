{
 "cells": [
  {
   "cell_type": "code",
   "execution_count": null,
   "id": "d0a209b2",
   "metadata": {},
   "outputs": [
    {
     "ename": "",
     "evalue": "",
     "output_type": "error",
     "traceback": [
      "\u001b[1;31mThe kernel failed to start as a dll could not be loaded.\n",
      "Click <a href='https://aka.ms/kernelFailuresDllLoad'>here</a> for more info."
     ]
    }
   ],
   "source": [
    "number = 1\n",
    "while number < 3:\n",
    "    print(number)\n",
    "    number += 1"
   ]
  },
  {
   "cell_type": "code",
   "execution_count": null,
   "id": "7c956325",
   "metadata": {},
   "outputs": [],
   "source": [
    "count = 1\n",
    "while count <= 10:\n",
    "    print(f\"파이썬 최고~! {count}\")\n",
    "    count += 1"
   ]
  },
  {
   "cell_type": "code",
   "execution_count": null,
   "id": "74ba7e80",
   "metadata": {
    "scrolled": true
   },
   "outputs": [],
   "source": [
    "count = 1\n",
    "while True:\n",
    "    print(f\"inf {count}\")\n",
    "    count += 1\n",
    "    if count > 10:\n",
    "        break"
   ]
  },
  {
   "cell_type": "code",
   "execution_count": null,
   "id": "e8d50c39",
   "metadata": {},
   "outputs": [],
   "source": [
    "num = 1\n",
    "while num <= 10:\n",
    "    print(f\"{num} counting...\")\n",
    "    if num >= 4:\n",
    "        print(\"no plus num\")\n",
    "        break\n",
    "    num += 1"
   ]
  },
  {
   "cell_type": "code",
   "execution_count": null,
   "id": "e95e55ba",
   "metadata": {},
   "outputs": [],
   "source": [
    "while True:\n",
    "    name = input(\"이름 입력 >> \")\n",
    "    if name == '최성우':\n",
    "        print(f\"{name} good~\")\n",
    "        break\n",
    "    else:\n",
    "        print(f\"{name} bravo~ \")\n",
    "        continue"
   ]
  },
  {
   "cell_type": "code",
   "execution_count": null,
   "id": "3c25e669",
   "metadata": {},
   "outputs": [],
   "source": [
    "while True:\n",
    "    fir = int(input(\"첫 번째 정수 입력 >> \"))\n",
    "    sec = int(input(\"두 번째 정수 입력 >> \"))\n",
    "    if fir == 0 and sec == 0:\n",
    "        print(\"프로그램이 종료되었습니다.\")\n",
    "        break\n",
    "    else:\n",
    "        print(f\"두 정수의 합 : {fir + sec}\")\n",
    "        continue"
   ]
  },
  {
   "cell_type": "code",
   "execution_count": null,
   "id": "1a7461b7",
   "metadata": {},
   "outputs": [],
   "source": [
    "body_count = int(input(\"현재 몸무게 : \"))\n",
    "want_count = int(input(\"목표 몸무게 : \"))\n",
    "count = 1\n",
    "while True:\n",
    "    if body_count > want_count:\n",
    "        waste = int(input(f\"{count}주차 감량 몸무게 : \"))\n",
    "        body_count -= waste\n",
    "        count += 1\n",
    "        continue\n",
    "    else:\n",
    "        print(f\"{body_count}kg 달성!! \")\n",
    "        break"
   ]
  },
  {
   "cell_type": "code",
   "execution_count": null,
   "id": "349fa7f4",
   "metadata": {},
   "outputs": [],
   "source": [
    "import random\n",
    "\n",
    "count = random.randint(1, 50)\n",
    "\n",
    "while True:\n",
    "    my_count = int(input(\"숫자를 입력하세요 >>\"))\n",
    "    if count > my_count:\n",
    "        print(f\"{my_count}보다는 큽니다.\")\n",
    "        continue\n",
    "    elif count < my_count:\n",
    "        print(f\"{my_count}보다는 작습니다.\")\n",
    "        continue\n",
    "    else:\n",
    "        print(\"정답입니다.\")\n",
    "        break\n"
   ]
  },
  {
   "cell_type": "code",
   "execution_count": null,
   "id": "f254a2b7",
   "metadata": {},
   "outputs": [],
   "source": [
    "food=[\"ham\",'pizza','chinese food']\n",
    "for dinner in food:\n",
    "    print(dinner)"
   ]
  },
  {
   "cell_type": "code",
   "execution_count": null,
   "id": "bf2a6f08",
   "metadata": {},
   "outputs": [],
   "source": [
    "hi='hellp'\n",
    "for i in hi:\n",
    "    print(i)"
   ]
  },
  {
   "cell_type": "code",
   "execution_count": null,
   "id": "2a2e2cbc",
   "metadata": {},
   "outputs": [],
   "source": [
    "tuple_food=(\"ham\",'pizza','chinese food')\n",
    "for food in tuple_food:\n",
    "    print(food)"
   ]
  },
  {
   "cell_type": "code",
   "execution_count": null,
   "id": "b70df65f",
   "metadata": {},
   "outputs": [],
   "source": [
    "score_list = [90, 45, 70, 60, 55]\n",
    "count = 1\n",
    "for i in score_list:\n",
    "    if i >= 60:\n",
    "        print(f\"{count}번째 학생은 합격입니다.\")\n",
    "    else:\n",
    "        print(f\"{count}번째 학생은 불합격입니다.\")\n",
    "    count += 1\n"
   ]
  },
  {
   "cell_type": "code",
   "execution_count": null,
   "id": "bb581742",
   "metadata": {},
   "outputs": [],
   "source": [
    "score_list = [57, 86, 63, 92, 35, 79]\n",
    "count = 1\n",
    "for i in score_list:\n",
    "    if i >= 80:\n",
    "        print(f\"{count}번은 {i}점이며 A등급입니다.\")\n",
    "    elif i >= 60:\n",
    "        print(f\"{count}번은 {i}점이며 B등급입니다.\")\n",
    "    else:\n",
    "        print(f\"{count}번은 {i}점이며 C등급입니다.\")\n",
    "    count += 1\n"
   ]
  },
  {
   "cell_type": "code",
   "execution_count": null,
   "id": "7988cad6",
   "metadata": {},
   "outputs": [],
   "source": [
    "for i in range(1,10,1):\n",
    "    print(i, end=\"\\t\")"
   ]
  },
  {
   "cell_type": "code",
   "execution_count": null,
   "id": "ed5944de",
   "metadata": {
    "scrolled": true
   },
   "outputs": [],
   "source": [
    "for i in range(2,101,2):\n",
    "    print(i, end=' ')"
   ]
  },
  {
   "cell_type": "code",
   "execution_count": null,
   "id": "4f198bde",
   "metadata": {},
   "outputs": [],
   "source": [
    "for i in range(3,100,3):\n",
    "    print(i, end=' ')"
   ]
  },
  {
   "cell_type": "code",
   "execution_count": null,
   "id": "7c0d3fe6",
   "metadata": {},
   "outputs": [],
   "source": [
    "list1=[[1,2],[3,4],[5,6]]\n",
    "for i,j in list1:\n",
    "    print(i,j)"
   ]
  },
  {
   "cell_type": "code",
   "execution_count": null,
   "id": "93bcae78",
   "metadata": {},
   "outputs": [],
   "source": [
    "answer = 0\n",
    "for i in range(1, 101):\n",
    "    if i % 3 == 0:\n",
    "        answer += i\n",
    "print(answer)\n"
   ]
  },
  {
   "cell_type": "code",
   "execution_count": null,
   "id": "d20c5a80",
   "metadata": {},
   "outputs": [],
   "source": [
    "for i in range(2,10):\n",
    "    for j in range(1,10):\n",
    "        print(f'{i} * {j} = {i*j}')\n",
    "    print('\\t')\n"
   ]
  },
  {
   "cell_type": "code",
   "execution_count": null,
   "id": "ca919ba0",
   "metadata": {},
   "outputs": [],
   "source": [
    "num=int(input(\"약수를 구할 정수 입력 >> \"))\n",
    "answer=[]\n",
    "print(f\"{num}의 약수 = \",end='')\n",
    "for i in range(1,num+1):\n",
    "    if num%i==0:\n",
    "        print(i,end=' ')"
   ]
  },
  {
   "cell_type": "code",
   "execution_count": null,
   "id": "665ff517",
   "metadata": {},
   "outputs": [],
   "source": [
    "count = int(input(\"숫자 입력 : \"))\n",
    "for i in range(1, count):\n",
    "    print('*' * i)\n",
    "    if i == count-1:\n",
    "        for j in range(count, 0, -1):\n",
    "            print('*' * j)"
   ]
  },
  {
   "cell_type": "code",
   "execution_count": null,
   "id": "9a4b3402",
   "metadata": {},
   "outputs": [],
   "source": [
    "start = int(input(\"첫번째 정수 : \"))\n",
    "end = int(input(\"두번쨰 정수 : \"))\n",
    "for i in range(start, end + 1):\n",
    "    print(i, end=' ')\n"
   ]
  },
  {
   "cell_type": "code",
   "execution_count": null,
   "id": "c5be659c",
   "metadata": {},
   "outputs": [],
   "source": [
    "start = int(input(\"첫번째 정수 : \"))\n",
    "end = int(input(\"두번쨰 정수 : \"))\n",
    "multi = int(input(\"배수 입력 >> \"))\n",
    "answer = 0\n",
    "for i in range(start, end + 1):\n",
    "    if i % multi == 0:\n",
    "        answer += i\n",
    "print(f\"{multi}의 배수의 합: {answer}\")\n"
   ]
  },
  {
   "cell_type": "code",
   "execution_count": null,
   "id": "fec296f5",
   "metadata": {},
   "outputs": [],
   "source": [
    "s = \".nohtyp deen uoY ,trohs oot si efiL\"\n",
    "for i in range(len(s), 0, -1):\n",
    "    print(s[i-1], end='')"
   ]
  },
  {
   "cell_type": "code",
   "execution_count": null,
   "id": "cd6fbed2",
   "metadata": {},
   "outputs": [],
   "source": [
    "for i in range(2,10):\n",
    "    for j in range(1,10):\n",
    "        print(f\"{i} * {j} = {i*j}\",end='\\t')\n",
    "    print(\"\\t\")"
   ]
  },
  {
   "cell_type": "code",
   "execution_count": null,
   "id": "20c74ce4",
   "metadata": {},
   "outputs": [],
   "source": [
    "for i in range(1,10):\n",
    "    for j in range(2,10):\n",
    "        print(f\"{j} * {i} = {i*j}\",end='\\t')\n",
    "    print(\"\\t\")"
   ]
  },
  {
   "cell_type": "code",
   "execution_count": null,
   "id": "c7fd04a0",
   "metadata": {},
   "outputs": [],
   "source": [
    "list1=[1,30,7,9,17,3,5,23,44,32,35]\n",
    "two=0\n",
    "one=0\n",
    "for i in list1:\n",
    "    if i%2==0:\n",
    "        two+=1\n",
    "    else:\n",
    "        one+=1\n",
    "print(f\"짝수 {two}개, 홀수{one}개\")"
   ]
  },
  {
   "cell_type": "code",
   "execution_count": 9,
   "id": "191f3aa9",
   "metadata": {},
   "outputs": [
    {
     "name": "stdout",
     "output_type": "stream",
     "text": [
      "OX 입력 >> XOXOXOXOXO\n",
      "5\n"
     ]
    }
   ],
   "source": [
    "answer=input(\"OX 입력 >> \")\n",
    "score=0\n",
    "result=0\n",
    "for i in range(len(answer)):\n",
    "    if answer[i]=='O':\n",
    "        score+=1\n",
    "        result+=score\n",
    "    else:\n",
    "        score=0\n",
    "print(result)"
   ]
  },
  {
   "cell_type": "code",
   "execution_count": 20,
   "id": "1a93de2f",
   "metadata": {},
   "outputs": [
    {
     "name": "stdout",
     "output_type": "stream",
     "text": [
      "박매일 \t 89 \t 78 \t 99 \t 88 \t B\n",
      "김미희 \t 67 \t 88 \t 77 \t 77 \t C\n",
      "강예진 \t 100 \t 55 \t 96 \t 83 \t B\n",
      "최성우 \t 80 \t 70 \t 90 \t 80 \t B\n",
      "평균 \t 84 \t 72 \t 90 \t\n"
     ]
    }
   ],
   "source": [
    "score_list=[[\"박매일\",89,78,99],[\"김미희\",67,88,77],[\"강예진\",100,55,96],[\"최성우\",80,70,90]]\n",
    "python,java,db=0,0,0\n",
    "for i in score_list:\n",
    "    aver=(i[1]+i[2]+i[3])/3\n",
    "    av_p,av_j,av_d=0,0,0\n",
    "    \n",
    "    if aver>=90:\n",
    "        grade='A'\n",
    "    elif aver >=80:\n",
    "        grade='B'\n",
    "    elif aver >=70:\n",
    "        grade='C'\n",
    "    elif aver >=60:\n",
    "        grade='D'\n",
    "    else:\n",
    "        grade='F'\n",
    "    print(i[0],\"\\t\",i[1],\"\\t\",i[2],\"\\t\",i[3],\"\\t\",int(aver),\"\\t\",grade)\n",
    "    \n",
    "    python+=i[1]\n",
    "    java+=i[2]\n",
    "    db+=i[3]\n",
    "av_p=python/len(score_list)\n",
    "av_j=java/len(score_list)\n",
    "av_d=db/len(score_list)\n",
    "print(\"평균\",\"\\t\",int(av_p),\"\\t\",int(av_j),\"\\t\",int(av_d),\"\\t\")    "
   ]
  },
  {
   "cell_type": "code",
   "execution_count": 24,
   "id": "5db65518",
   "metadata": {},
   "outputs": [
    {
     "ename": "FileNotFoundError",
     "evalue": "[Errno 2] No such file or directory: 'movie_review.pkl'",
     "output_type": "error",
     "traceback": [
      "\u001b[1;31m---------------------------------------------------------------------------\u001b[0m",
      "\u001b[1;31mFileNotFoundError\u001b[0m                         Traceback (most recent call last)",
      "Input \u001b[1;32mIn [24]\u001b[0m, in \u001b[0;36m<cell line: 2>\u001b[1;34m()\u001b[0m\n\u001b[0;32m      1\u001b[0m \u001b[38;5;28;01mimport\u001b[39;00m \u001b[38;5;21;01mpickle\u001b[39;00m\n\u001b[1;32m----> 2\u001b[0m \u001b[38;5;28;01mwith\u001b[39;00m \u001b[38;5;28mopen\u001b[39m(\u001b[38;5;124m'\u001b[39m\u001b[38;5;124mmovie_review.pkl\u001b[39m\u001b[38;5;124m'\u001b[39m,\u001b[38;5;124m'\u001b[39m\u001b[38;5;124mrb\u001b[39m\u001b[38;5;124m'\u001b[39m)\u001b[38;5;28;01mas\u001b[39;00m f:my\u001b[38;5;241m=\u001b[39mpickle\u001b[38;5;241m.\u001b[39mload(f)\n",
      "\u001b[1;31mFileNotFoundError\u001b[0m: [Errno 2] No such file or directory: 'movie_review.pkl'"
     ]
    }
   ],
   "source": [
    "import pickle\n",
    "with open('movie_review.pkl','rb')as f:my=pickle.load(f)"
   ]
  },
  {
   "cell_type": "code",
   "execution_count": 23,
   "id": "c888c526",
   "metadata": {},
   "outputs": [
    {
     "name": "stdout",
     "output_type": "stream",
     "text": [
      "<_io.BufferedReader name='movie_review.pkl'>\n"
     ]
    }
   ],
   "source": []
  },
  {
   "cell_type": "code",
   "execution_count": null,
   "id": "469decb8",
   "metadata": {},
   "outputs": [],
   "source": []
  }
 ],
 "metadata": {
  "kernelspec": {
   "display_name": "Python 3.10.5 64-bit",
   "language": "python",
   "name": "python3"
  },
  "language_info": {
   "codemirror_mode": {
    "name": "ipython",
    "version": 3
   },
   "file_extension": ".py",
   "mimetype": "text/x-python",
   "name": "python",
   "nbconvert_exporter": "python",
   "pygments_lexer": "ipython3",
   "version": "3.10.5"
  },
  "vscode": {
   "interpreter": {
    "hash": "1e3d2864960cda1cc89e7405ec595e77e7ac30692c1b4230c1dcf8d9a5036813"
   }
  }
 },
 "nbformat": 4,
 "nbformat_minor": 5
}
