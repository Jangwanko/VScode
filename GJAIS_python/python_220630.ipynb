{
 "cells": [
  {
   "cell_type": "code",
   "execution_count": 2,
   "metadata": {},
   "outputs": [
    {
     "data": {
      "text/plain": [
       "{'name': 'JW', 'age': 20, 'phone': '3211'}"
      ]
     },
     "execution_count": 2,
     "metadata": {},
     "output_type": "execute_result"
    }
   ],
   "source": [
    "dic1={\"name\":\"JW\",\"age\":20,\"phone\":\"3211\"}\n",
    "dic1"
   ]
  },
  {
   "cell_type": "code",
   "execution_count": 3,
   "metadata": {},
   "outputs": [
    {
     "data": {
      "text/plain": [
       "dict"
      ]
     },
     "execution_count": 3,
     "metadata": {},
     "output_type": "execute_result"
    }
   ],
   "source": [
    "type(dic1)"
   ]
  },
  {
   "cell_type": "code",
   "execution_count": 4,
   "metadata": {},
   "outputs": [
    {
     "data": {
      "text/plain": [
       "{'like it hot': '공원소녀'}"
      ]
     },
     "execution_count": 4,
     "metadata": {},
     "output_type": "execute_result"
    }
   ],
   "source": [
    "dic_test={\"like it hot\":\"공원소녀\"}\n",
    "dic_test"
   ]
  },
  {
   "cell_type": "code",
   "execution_count": 6,
   "metadata": {},
   "outputs": [
    {
     "data": {
      "text/plain": [
       "['name', 'age', 'phone']"
      ]
     },
     "execution_count": 6,
     "metadata": {},
     "output_type": "execute_result"
    }
   ],
   "source": [
    "list(dic1.keys())"
   ]
  },
  {
   "cell_type": "code",
   "execution_count": 10,
   "metadata": {},
   "outputs": [
    {
     "data": {
      "text/plain": [
       "['JW', 20, '3211']"
      ]
     },
     "execution_count": 10,
     "metadata": {},
     "output_type": "execute_result"
    }
   ],
   "source": [
    "list(dic1.values())"
   ]
  },
  {
   "cell_type": "code",
   "execution_count": 11,
   "metadata": {},
   "outputs": [
    {
     "name": "stdout",
     "output_type": "stream",
     "text": [
      "name\n",
      "age\n",
      "phone\n"
     ]
    }
   ],
   "source": [
    "for key in dic1.keys():\n",
    "    print(key)"
   ]
  },
  {
   "cell_type": "code",
   "execution_count": 12,
   "metadata": {},
   "outputs": [
    {
     "name": "stdout",
     "output_type": "stream",
     "text": [
      "JW\n",
      "20\n",
      "3211\n"
     ]
    }
   ],
   "source": [
    "for value in dic1.values():\n",
    "    print(value)"
   ]
  },
  {
   "cell_type": "code",
   "execution_count": 14,
   "metadata": {},
   "outputs": [
    {
     "name": "stdout",
     "output_type": "stream",
     "text": [
      "name \t  JW\n",
      "age \t  20\n",
      "phone \t  3211\n"
     ]
    }
   ],
   "source": [
    "for key,value in dic1.items():\n",
    "    print(key,\"\\t \",value)"
   ]
  },
  {
   "cell_type": "code",
   "execution_count": 15,
   "metadata": {},
   "outputs": [
    {
     "data": {
      "text/plain": [
       "True"
      ]
     },
     "execution_count": 15,
     "metadata": {},
     "output_type": "execute_result"
    }
   ],
   "source": [
    "'name' in dic1"
   ]
  },
  {
   "cell_type": "code",
   "execution_count": 16,
   "metadata": {},
   "outputs": [],
   "source": [
    "dic1.clear()"
   ]
  },
  {
   "cell_type": "code",
   "execution_count": 17,
   "metadata": {},
   "outputs": [
    {
     "data": {
      "text/plain": [
       "{}"
      ]
     },
     "execution_count": 17,
     "metadata": {},
     "output_type": "execute_result"
    }
   ],
   "source": [
    "dic1"
   ]
  },
  {
   "cell_type": "code",
   "execution_count": 21,
   "metadata": {},
   "outputs": [
    {
     "name": "stdout",
     "output_type": "stream",
     "text": [
      "-1\n"
     ]
    }
   ],
   "source": [
    "def minus(num1,num2):\n",
    "    answer=num1-num2\n",
    "    return answer\n",
    "num1=int(input(\"첫번째 정수 입력: \"))\n",
    "num2=int(input(\"두번째 정수 입력: \"))\n",
    "result=minus(num1,num2)\n",
    "print(result)\n"
   ]
  },
  {
   "cell_type": "code",
   "execution_count": 41,
   "metadata": {},
   "outputs": [
    {
     "name": "stdout",
     "output_type": "stream",
     "text": [
      " 지워\n"
     ]
    }
   ],
   "source": [
    "def delete_word(word):\n",
    "    answer=''\n",
    "    if 'ㅋ' in word:\n",
    "        answer=word.replace('ㅋ','')\n",
    "    return print(answer)\n",
    "word=input(\"문장 입력 : \")\n",
    "delete_word(word)"
   ]
  },
  {
   "cell_type": "code",
   "execution_count": 45,
   "metadata": {},
   "outputs": [
    {
     "name": "stdout",
     "output_type": "stream",
     "text": [
      "<function cal at 0x0000018EC78BFE50>\n"
     ]
    }
   ],
   "source": [
    "def cal(num1,num2,op):\n",
    "    if op=='+':\n",
    "        return num1+num2\n",
    "    elif op=='-':\n",
    "        return num1-num2\n",
    "num1=int(input(\"첫번째 정수 입력: \"))\n",
    "num2=int(input(\"두번째 정수 입력: \"))\n",
    "op=input(\"연산자 입력(+,-) >> \")\n",
    "result=cal(num1,num2,op)\n",
    "print(result)\n"
   ]
  },
  {
   "cell_type": "code",
   "execution_count": 54,
   "metadata": {},
   "outputs": [
    {
     "name": "stdout",
     "output_type": "stream",
     "text": [
      "1 2 5 10 "
     ]
    }
   ],
   "source": [
    "def divisor(num):\n",
    "    for i in range(1,num+1):\n",
    "        if num%i==0:\n",
    "            print(i,end=' ')\n",
    "divisor(10)"
   ]
  },
  {
   "cell_type": "code",
   "execution_count": 5,
   "metadata": {},
   "outputs": [
    {
     "data": {
      "text/plain": [
       "6"
      ]
     },
     "execution_count": 5,
     "metadata": {},
     "output_type": "execute_result"
    }
   ],
   "source": [
    "def add(*args):\n",
    "    return sum(args)\n",
    "add(1,2,3)"
   ]
  },
  {
   "cell_type": "code",
   "execution_count": 7,
   "metadata": {},
   "outputs": [
    {
     "ename": "UnboundLocalError",
     "evalue": "local variable 'result' referenced before assignment",
     "output_type": "error",
     "traceback": [
      "\u001b[1;31m---------------------------------------------------------------------------\u001b[0m",
      "\u001b[1;31mUnboundLocalError\u001b[0m                         Traceback (most recent call last)",
      "\u001b[1;32mc:\\Users\\user\\Documents\\Self_Study\\VScode\\GJAIS_python\\python_220630.ipynb Cell 17'\u001b[0m in \u001b[0;36m<cell line: 12>\u001b[1;34m()\u001b[0m\n\u001b[0;32m     <a href='vscode-notebook-cell:/c%3A/Users/user/Documents/Self_Study/VScode/GJAIS_python/python_220630.ipynb#ch0000028?line=9'>10</a>\u001b[0m num2 \u001b[39m=\u001b[39m \u001b[39mint\u001b[39m(\u001b[39minput\u001b[39m(\u001b[39m\"\u001b[39m\u001b[39m두 번째 정수 입력 >> \u001b[39m\u001b[39m\"\u001b[39m))\n\u001b[0;32m     <a href='vscode-notebook-cell:/c%3A/Users/user/Documents/Self_Study/VScode/GJAIS_python/python_220630.ipynb#ch0000028?line=10'>11</a>\u001b[0m op \u001b[39m=\u001b[39m \u001b[39minput\u001b[39m(\u001b[39m\"\u001b[39m\u001b[39m연산자 입력(+,-)) >> \u001b[39m\u001b[39m\"\u001b[39m)\n\u001b[1;32m---> <a href='vscode-notebook-cell:/c%3A/Users/user/Documents/Self_Study/VScode/GJAIS_python/python_220630.ipynb#ch0000028?line=11'>12</a>\u001b[0m result \u001b[39m=\u001b[39m cal(num1, num2,op)\n\u001b[0;32m     <a href='vscode-notebook-cell:/c%3A/Users/user/Documents/Self_Study/VScode/GJAIS_python/python_220630.ipynb#ch0000028?line=12'>13</a>\u001b[0m \u001b[39mprint\u001b[39m(\u001b[39mf\u001b[39m\u001b[39m\"\u001b[39m\u001b[39m결과 : \u001b[39m\u001b[39m{\u001b[39;00mresult\u001b[39m}\u001b[39;00m\u001b[39m\"\u001b[39m)\n",
      "\u001b[1;32mc:\\Users\\user\\Documents\\Self_Study\\VScode\\GJAIS_python\\python_220630.ipynb Cell 17'\u001b[0m in \u001b[0;36mcal\u001b[1;34m(num1, num2, op)\u001b[0m\n\u001b[0;32m      <a href='vscode-notebook-cell:/c%3A/Users/user/Documents/Self_Study/VScode/GJAIS_python/python_220630.ipynb#ch0000028?line=5'>6</a>\u001b[0m \u001b[39melif\u001b[39;00m op\u001b[39m==\u001b[39m\u001b[39m'\u001b[39m\u001b[39m-\u001b[39m\u001b[39m'\u001b[39m \u001b[39mand\u001b[39;00m num2\u001b[39m>\u001b[39mnum2:\n\u001b[0;32m      <a href='vscode-notebook-cell:/c%3A/Users/user/Documents/Self_Study/VScode/GJAIS_python/python_220630.ipynb#ch0000028?line=6'>7</a>\u001b[0m     result\u001b[39m=\u001b[39mnum2\u001b[39m-\u001b[39mnum1\n\u001b[1;32m----> <a href='vscode-notebook-cell:/c%3A/Users/user/Documents/Self_Study/VScode/GJAIS_python/python_220630.ipynb#ch0000028?line=7'>8</a>\u001b[0m \u001b[39mreturn\u001b[39;00m result\n",
      "\u001b[1;31mUnboundLocalError\u001b[0m: local variable 'result' referenced before assignment"
     ]
    }
   ],
   "source": [
    "def cal(num1, num2,op):\n",
    "    if op=='+':\n",
    "        result=num1+num2\n",
    "    elif op=='-' and num1>=num2:\n",
    "        result=num1-num2\n",
    "    elif op=='-' and num2>num1:\n",
    "        result=num2-num1\n",
    "    return result\n",
    "num1 = int(input(\"첫 번째 정수 입력 >> \"))\n",
    "num2 = int(input(\"두 번째 정수 입력 >> \"))\n",
    "op = input(\"연산자 입력(+,-)) >> \")\n",
    "result = cal(num1, num2,op)\n",
    "print(f\"결과 : {result}\")"
   ]
  },
  {
   "cell_type": "code",
   "execution_count": null,
   "metadata": {},
   "outputs": [],
   "source": []
  }
 ],
 "metadata": {
  "kernelspec": {
   "display_name": "Python 3.9.12 ('base')",
   "language": "python",
   "name": "python3"
  },
  "language_info": {
   "codemirror_mode": {
    "name": "ipython",
    "version": 3
   },
   "file_extension": ".py",
   "mimetype": "text/x-python",
   "name": "python",
   "nbconvert_exporter": "python",
   "pygments_lexer": "ipython3",
   "version": "3.9.12"
  },
  "orig_nbformat": 4,
  "vscode": {
   "interpreter": {
    "hash": "a077222d77dfe082b8f1dd562ad70e458ac2ab76993a0b248ab0476e32e9e8dd"
   }
  }
 },
 "nbformat": 4,
 "nbformat_minor": 2
}
