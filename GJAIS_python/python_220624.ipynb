{
 "cells": [
  {
   "cell_type": "code",
   "execution_count": 3,
   "id": "7f75c671",
   "metadata": {},
   "outputs": [],
   "source": [
    "list1=[2,5,7,9,10]"
   ]
  },
  {
   "cell_type": "code",
   "execution_count": 4,
   "id": "b32146ec",
   "metadata": {},
   "outputs": [
    {
     "name": "stdout",
     "output_type": "stream",
     "text": [
      "2\n",
      "9\n",
      "17\n"
     ]
    }
   ],
   "source": [
    "print(list1[0])\n",
    "print(list1[3])\n",
    "print(list1[2]+list1[-1])"
   ]
  },
  {
   "cell_type": "code",
   "execution_count": 5,
   "id": "c45bff03",
   "metadata": {},
   "outputs": [],
   "source": [
    "list2=[1,2,3,['a','b','c']]\n"
   ]
  },
  {
   "cell_type": "code",
   "execution_count": 10,
   "id": "338baa73",
   "metadata": {},
   "outputs": [
    {
     "name": "stdout",
     "output_type": "stream",
     "text": [
      "['a', 'b', 'c']\n"
     ]
    }
   ],
   "source": [
    "temp=list2[-1]\n",
    "print(temp)"
   ]
  },
  {
   "cell_type": "code",
   "execution_count": 11,
   "id": "636c5f60",
   "metadata": {},
   "outputs": [
    {
     "data": {
      "text/plain": [
       "'b'"
      ]
     },
     "execution_count": 11,
     "metadata": {},
     "output_type": "execute_result"
    }
   ],
   "source": [
    "list2[-1][1]"
   ]
  },
  {
   "cell_type": "code",
   "execution_count": 12,
   "id": "83cc232f",
   "metadata": {},
   "outputs": [
    {
     "data": {
      "text/plain": [
       "[1, 2]"
      ]
     },
     "execution_count": 12,
     "metadata": {},
     "output_type": "execute_result"
    }
   ],
   "source": [
    "list3=[0,1,2,3,4]\n",
    "list3[1:3]"
   ]
  },
  {
   "cell_type": "code",
   "execution_count": 37,
   "id": "ed5a5a08",
   "metadata": {},
   "outputs": [
    {
     "data": {
      "text/plain": [
       "[1, 2, 3, 3, 4, 5, 6]"
      ]
     },
     "execution_count": 37,
     "metadata": {},
     "output_type": "execute_result"
    }
   ],
   "source": [
    "list4=[1,2,3]\n",
    "list5=[3,4,5,6]\n",
    "list4+list5"
   ]
  },
  {
   "cell_type": "code",
   "execution_count": 38,
   "id": "e9e89047",
   "metadata": {},
   "outputs": [],
   "source": [
    "list5.append(2)"
   ]
  },
  {
   "cell_type": "code",
   "execution_count": 39,
   "id": "fd6425db",
   "metadata": {},
   "outputs": [],
   "source": [
    "list5.append(1)\n",
    "list5.append(0)"
   ]
  },
  {
   "cell_type": "code",
   "execution_count": 40,
   "id": "4ad18929",
   "metadata": {},
   "outputs": [
    {
     "data": {
      "text/plain": [
       "[3, 4, 5, 6, 2, 1, 0]"
      ]
     },
     "execution_count": 40,
     "metadata": {},
     "output_type": "execute_result"
    }
   ],
   "source": [
    "list5"
   ]
  },
  {
   "cell_type": "code",
   "execution_count": 41,
   "id": "63763de8",
   "metadata": {},
   "outputs": [],
   "source": [
    "list5.sort()"
   ]
  },
  {
   "cell_type": "code",
   "execution_count": 42,
   "id": "7fc0d2fc",
   "metadata": {},
   "outputs": [
    {
     "data": {
      "text/plain": [
       "[0, 1, 2, 3, 4, 5, 6]"
      ]
     },
     "execution_count": 42,
     "metadata": {},
     "output_type": "execute_result"
    }
   ],
   "source": [
    "list5"
   ]
  },
  {
   "cell_type": "code",
   "execution_count": 23,
   "id": "daaaf37c",
   "metadata": {},
   "outputs": [],
   "source": [
    "list_=['apple','grape',['watemelon','melon'],'peach','strawberry','orange']"
   ]
  },
  {
   "cell_type": "code",
   "execution_count": 25,
   "id": "c2a83d37",
   "metadata": {},
   "outputs": [
    {
     "data": {
      "text/plain": [
       "['apple', 'orange', 'watemelon']"
      ]
     },
     "execution_count": 25,
     "metadata": {},
     "output_type": "execute_result"
    }
   ],
   "source": [
    "apple=list_[0]\n",
    "wm=list_[2][0]\n",
    "orange=list_[-1]\n",
    "choice_list=[]\n",
    "choice_list.append(apple)\n",
    "choice_list.append(orange)\n",
    "choice_list.append(wm)\n",
    "\n",
    "choice_list"
   ]
  },
  {
   "cell_type": "code",
   "execution_count": 43,
   "id": "f4c51d07",
   "metadata": {},
   "outputs": [
    {
     "data": {
      "text/plain": [
       "[1, 2, 3, 4, 5, 6, 7, 8, 9]"
      ]
     },
     "execution_count": 43,
     "metadata": {},
     "output_type": "execute_result"
    }
   ],
   "source": [
    "list6=[]\n",
    "for i in range(1,10):\n",
    "    list6.insert(i,i)\n",
    "list6"
   ]
  },
  {
   "cell_type": "code",
   "execution_count": 57,
   "id": "35b65d87",
   "metadata": {},
   "outputs": [],
   "source": [
    "music_list=[['lovedive','ive'],['tomboy','(girl)children'],['thatthat','psy']]"
   ]
  },
  {
   "cell_type": "code",
   "execution_count": 58,
   "id": "69077dc2",
   "metadata": {},
   "outputs": [],
   "source": [
    "music_list.insert(1,['Is this love','mellomance'])\n",
    "music_list.insert(3,['ssfw','bb'])"
   ]
  },
  {
   "cell_type": "code",
   "execution_count": 61,
   "id": "fae65875",
   "metadata": {},
   "outputs": [
    {
     "data": {
      "text/plain": [
       "[['lovedive', 'ive'],\n",
       " ['Is this love', 'mellomance'],\n",
       " ['tomboy', '(girl)children'],\n",
       " ['ssfw', 'bb'],\n",
       " ['thatthat', 'psy']]"
      ]
     },
     "execution_count": 61,
     "metadata": {},
     "output_type": "execute_result"
    }
   ],
   "source": [
    "music_list"
   ]
  },
  {
   "cell_type": "code",
   "execution_count": 65,
   "id": "a7d6c983",
   "metadata": {},
   "outputs": [
    {
     "name": "stdout",
     "output_type": "stream",
     "text": [
      "인덱스 입력 >> 7\n",
      "노래 제목 >> dear my \"x\"\n",
      "가수 이름 >> ky\n"
     ]
    }
   ],
   "source": [
    "index_value=int(input(\"인덱스 입력 >> \"))\n",
    "song=input('노래 제목 >> ')\n",
    "singer=input('가수 이름 >> ')\n",
    "music_list.insert(index_value,[song,singer])"
   ]
  },
  {
   "cell_type": "code",
   "execution_count": 66,
   "id": "704d1ae6",
   "metadata": {},
   "outputs": [
    {
     "data": {
      "text/plain": [
       "[['lovedive', 'ive'],\n",
       " ['Is this love', 'mellomance'],\n",
       " ['tomboy', '(girl)children'],\n",
       " ['ssfw', 'bb'],\n",
       " [\"dear my 'X'\", 'kyungseo'],\n",
       " ['thatthat', 'psy'],\n",
       " ['dear my \"x\"', 'ky']]"
      ]
     },
     "execution_count": 66,
     "metadata": {},
     "output_type": "execute_result"
    }
   ],
   "source": [
    "music_list"
   ]
  },
  {
   "cell_type": "code",
   "execution_count": 67,
   "id": "134346bd",
   "metadata": {},
   "outputs": [
    {
     "name": "stdout",
     "output_type": "stream",
     "text": [
      "1\n",
      "7\n"
     ]
    }
   ],
   "source": [
    "list6=[0,1,2,3,4]\n",
    "print(list6[1])\n",
    "list6[1]=7\n",
    "print(list6[1])"
   ]
  },
  {
   "cell_type": "code",
   "execution_count": 68,
   "id": "8d5b6f08",
   "metadata": {},
   "outputs": [
    {
     "data": {
      "text/plain": [
       "[0, 7, 2, 3, 4]"
      ]
     },
     "execution_count": 68,
     "metadata": {},
     "output_type": "execute_result"
    }
   ],
   "source": [
    "list6"
   ]
  },
  {
   "cell_type": "code",
   "execution_count": 70,
   "id": "609d26f6",
   "metadata": {},
   "outputs": [
    {
     "ename": "TypeError",
     "evalue": "can only assign an iterable",
     "output_type": "error",
     "traceback": [
      "\u001b[1;31m---------------------------------------------------------------------------\u001b[0m",
      "\u001b[1;31mTypeError\u001b[0m                                 Traceback (most recent call last)",
      "Input \u001b[1;32mIn [70]\u001b[0m, in \u001b[0;36m<cell line: 1>\u001b[1;34m()\u001b[0m\n\u001b[1;32m----> 1\u001b[0m list6[\u001b[38;5;241m2\u001b[39m:\u001b[38;5;241m4\u001b[39m]\u001b[38;5;241m=\u001b[39m\u001b[38;5;241m7\u001b[39m\n",
      "\u001b[1;31mTypeError\u001b[0m: can only assign an iterable"
     ]
    }
   ],
   "source": [
    "list6[2:4]=7"
   ]
  },
  {
   "cell_type": "code",
   "execution_count": 71,
   "id": "5ee7c7a9",
   "metadata": {},
   "outputs": [
    {
     "data": {
      "text/plain": [
       "[0, 7, 7, 4]"
      ]
     },
     "execution_count": 71,
     "metadata": {},
     "output_type": "execute_result"
    }
   ],
   "source": [
    "list6[2:4]=[7]\n",
    "list6"
   ]
  },
  {
   "cell_type": "code",
   "execution_count": 90,
   "id": "41e5e44d",
   "metadata": {},
   "outputs": [
    {
     "data": {
      "text/plain": [
       "[1, 2, 3, 4, 7]"
      ]
     },
     "execution_count": 90,
     "metadata": {},
     "output_type": "execute_result"
    }
   ],
   "source": [
    "array=[1,2,3,4,5]\n",
    "array[-1]=7\n",
    "array"
   ]
  },
  {
   "cell_type": "code",
   "execution_count": 91,
   "id": "0e50e54b",
   "metadata": {},
   "outputs": [
    {
     "data": {
      "text/plain": [
       "[1, ['a', 'b', 'c'], 3, 4, 7]"
      ]
     },
     "execution_count": 91,
     "metadata": {},
     "output_type": "execute_result"
    }
   ],
   "source": [
    "array[1]=['a','b','c']\n",
    "array"
   ]
  },
  {
   "cell_type": "code",
   "execution_count": 92,
   "id": "e924cac7",
   "metadata": {},
   "outputs": [],
   "source": [
    "array[3:5]=['d','e','f','g']"
   ]
  },
  {
   "cell_type": "code",
   "execution_count": 93,
   "id": "2b2550ea",
   "metadata": {},
   "outputs": [
    {
     "data": {
      "text/plain": [
       "[1, ['a', 'b', 'c'], 3, 'd', 'e', 'f', 'g']"
      ]
     },
     "execution_count": 93,
     "metadata": {},
     "output_type": "execute_result"
    }
   ],
   "source": [
    "array"
   ]
  },
  {
   "cell_type": "code",
   "execution_count": 94,
   "id": "0c521cdc",
   "metadata": {},
   "outputs": [
    {
     "data": {
      "text/plain": [
       "['h', 'i', 'j', ['a', 'b', 'c'], 3, 'd', 'e', 'f', 'g']"
      ]
     },
     "execution_count": 94,
     "metadata": {},
     "output_type": "execute_result"
    }
   ],
   "source": [
    "array[:1]=['h','i','j']\n",
    "array"
   ]
  },
  {
   "cell_type": "code",
   "execution_count": 95,
   "id": "f2eb0760",
   "metadata": {},
   "outputs": [
    {
     "data": {
      "text/plain": [
       "[0, 2, 3, 4, 5]"
      ]
     },
     "execution_count": 95,
     "metadata": {},
     "output_type": "execute_result"
    }
   ],
   "source": [
    "list7=[0,1,2,3,4,5]\n",
    "del list7[1]\n",
    "list7"
   ]
  },
  {
   "cell_type": "code",
   "execution_count": 96,
   "id": "dc02da53",
   "metadata": {},
   "outputs": [
    {
     "data": {
      "text/plain": [
       "[0, 2, 3, 4]"
      ]
     },
     "execution_count": 96,
     "metadata": {},
     "output_type": "execute_result"
    }
   ],
   "source": [
    "list7.remove(5)\n",
    "list7"
   ]
  },
  {
   "cell_type": "code",
   "execution_count": 20,
   "id": "35850291",
   "metadata": {},
   "outputs": [
    {
     "name": "stdout",
     "output_type": "stream",
     "text": [
      "검색할 문자를 입력하세요: o\n",
      "o는 있습니다. 4개가 있습니다.\n"
     ]
    }
   ],
   "source": [
    "s=[\"HI, myname is Seoungwoo\",'Hello']\n",
    "a=input(\"검색할 문자를 입력하세요: \")\n",
    "if (a in s[0] or a in s[1])==True:\n",
    "    print(f\"{a}는 있습니다. {s[0].count(a)+s[1].count(a)}개가 있습니다.\")\n",
    "else:\n",
    "    print(\"없습니다.\")"
   ]
  },
  {
   "cell_type": "code",
   "execution_count": null,
   "id": "d3035a90",
   "metadata": {},
   "outputs": [],
   "source": []
  }
 ],
 "metadata": {
  "kernelspec": {
   "display_name": "Python 3 (ipykernel)",
   "language": "python",
   "name": "python3"
  },
  "language_info": {
   "codemirror_mode": {
    "name": "ipython",
    "version": 3
   },
   "file_extension": ".py",
   "mimetype": "text/x-python",
   "name": "python",
   "nbconvert_exporter": "python",
   "pygments_lexer": "ipython3",
   "version": "3.9.12"
  }
 },
 "nbformat": 4,
 "nbformat_minor": 5
}
